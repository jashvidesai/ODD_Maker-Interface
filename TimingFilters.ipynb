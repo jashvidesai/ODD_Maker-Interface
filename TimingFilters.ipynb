{
  "cells": [
    {
      "cell_type": "markdown",
      "metadata": {
        "id": "sy7qqmwD_kl0"
      },
      "source": [
        "**Pre-defined values from Lunar Time-Transfer paper to define Q and R**"
      ]
    },
    {
      "cell_type": "code",
      "execution_count": 1,
      "metadata": {
        "id": "AV_madZu_kl1",
        "outputId": "2b53f683-93e8-4bad-dc20-6219f43c36f8",
        "colab": {
          "base_uri": "https://localhost:8080/"
        }
      },
      "outputs": [
        {
          "output_type": "stream",
          "name": "stdout",
          "text": [
            "[[2.44036996e+01 0.00000000e+00 0.00000000e+00 0.00000000e+00]\n",
            " [0.00000000e+00 2.44036996e+01 0.00000000e+00 0.00000000e+00]\n",
            " [0.00000000e+00 0.00000000e+00 8.53302279e+09 0.00000000e+00]\n",
            " [0.00000000e+00 0.00000000e+00 0.00000000e+00 8.53302279e+09]]\n"
          ]
        }
      ],
      "source": [
        "import numpy as np\n",
        "import math\n",
        "T_c = 0.00000009775\n",
        "f_L1 = 1575420000\n",
        "N_i = 4\n",
        "CN0 = 15\n",
        "B_pll = 0.5\n",
        "B_fe = 26000000\n",
        "T = 0.020\n",
        "d = 0.3\n",
        "pi = math.pi\n",
        "c = 299792458\n",
        "\n",
        "B_dll = 0.5\n",
        "\n",
        "s_dll = (B_dll/(2*CN0))*(1/(T_c*B_fe))*(1+(1/(T*CN0)))\n",
        "pr_var = ((c*T_c)**2)*s_dll\n",
        "\n",
        "s_pll = (B_pll/(CN0))*(1+(1/(2*T*CN0)))\n",
        "prr_var = ((c**2)/((2*pi*f_L1 * T_c)**2)) * (s_pll)\n",
        "\n",
        "\n",
        "#2 satellites\n",
        "R = np.array([[pr_var,0,0,0],[0,pr_var,0,0],[0,0,prr_var,0],[0,0,0,prr_var]])\n",
        "\n",
        "print(R)\n"
      ]
    },
    {
      "cell_type": "code",
      "execution_count": 2,
      "metadata": {
        "id": "2oW1tYQ-_kl1",
        "outputId": "aa232b57-2e4d-4a01-8501-c3b53367aa25",
        "colab": {
          "base_uri": "https://localhost:8080/"
        }
      },
      "outputs": [
        {
          "output_type": "stream",
          "name": "stdout",
          "text": [
            "[[4.36560000e-21 1.39172509e-24]\n",
            " [1.39172509e-24 1.25918778e-24]]\n"
          ]
        }
      ],
      "source": [
        "h_0 = 1.4*(10**(-22))\n",
        "h_m1 = 2.3*(10**(-26))\n",
        "h_m2 = 3.3*(10**(-31))\n",
        "\n",
        "dt = 60\n",
        "\n",
        "e1 = (h_0/2)*dt + 2*h_m1*(dt*dt) + (2/3)*((pi*h_m2*dt)**2)*dt\n",
        "e2 = h_m1*dt + h_m2*(pi*dt)**2\n",
        "e3 = (h_0/(2*dt))+ 4*h_m1 + (8/3)*(pi*pi)*h_m2*dt\n",
        "\n",
        "Q = np.array([[e1,e2],[e2,e3]])\n",
        "print(Q)"
      ]
    },
    {
      "cell_type": "code",
      "source": [
        "import numpy as np\n",
        "import scipy as sp\n",
        "import matplotlib.pyplot as plt\n",
        "\n",
        "class KalmanFilter(object):\n",
        "  def __init__(self, A = None, B = None, H = None, Q = None, R = None, P = None, x0 = None):\n",
        "    if(A is None or H is None):\n",
        "      raise ValueError(\"Set proper system dynamics.\")\n",
        "\n",
        "    #Number of state variables\n",
        "    self.n = A.shape[1]\n",
        "\n",
        "    #Number of measurement variables\n",
        "    self.m = H.shape[1]\n",
        "\n",
        "    self.A = A\n",
        "    self.H = H\n",
        "    self.B = np.zeros((1,1)) if B is None else B\n",
        "\n",
        "    #Covariance is often a diagonal matrix since variables are independent\n",
        "    self.Q = np.eye(self.n) if Q is None else Q\n",
        "    self.R = np.eye(self.n) if R is None else R\n",
        "    self.P = np.eye(self.n) if P is None else P\n",
        "    self.x = np.zeros((self.n, 1)) if x0 is None else x0\n",
        "\n",
        "  def predict(self, u = None):\n",
        "    if u is None: u = np.zeros((self.B.shape[1],1))\n",
        "\n",
        "    self.x = (self.A @ self.x) + (self.B@ u)\n",
        "    self.P = ((self.A @self.P)@ self.A.T) + self.Q\n",
        "    return self.x\n",
        "\n",
        "  def update(self, z):\n",
        "    S = self.R + (self.H @ (self.P @ self.H.T)) # in parenthesees of inverse\n",
        "\n",
        "    #This is a Cholesky Solver which uses the fact that S is symmetric positive definite to solve for K quicker\n",
        "    #We are solving for K given that S^T * K^T = H * P^T\n",
        "    K = sp.linalg.cho_solve(sp.linalg.cho_factor(S.T),(self.H @ self.P.T)).T\n",
        "\n",
        "    #This is the equation for K in the description of the filter for reference\n",
        "    # K = ((self.P @ self.H.T) @ np.linalg.inv(S))\n",
        "\n",
        "    y = z - (self.H @ self.x) # in parenthesees of inverse\n",
        "    self.x = self.x + (K@ y)\n",
        "\n",
        "    I = np.eye(self.n)\n",
        "    self.P = (((I-(K@self.H))@ self.P)@((I-(K@self.H)).T))+(K @(self.R @K.T))\n",
        "    return K"
      ],
      "metadata": {
        "id": "xrmPKIGg_vxt"
      },
      "execution_count": 3,
      "outputs": []
    },
    {
      "cell_type": "code",
      "source": [
        "# need to debug this\n",
        "\n",
        "def example():\n",
        "    A = np.array([[1, 60, 0, 0, 0, 0, 0, 0, 0, 0],\n",
        "                  [0, 1, 0, 0, 0, 0, 0, 0, 0, 0],\n",
        "                  [0, 0, 1, 60, 0, 0, 0, 0, 0, 0],\n",
        "                  [0, 0, 0, 1, 0, 0, 0, 0, 0, 0],\n",
        "                  [0, 0, 0, 0, 1, 60, 0, 0, 0, 0],\n",
        "                  [0, 0, 0, 0, 0, 1, 0, 0, 0, 0],\n",
        "                  [0, 0, 0, 0, 0, 0, 1, 60, 0, 0],\n",
        "                  [0, 0, 0, 0, 0, 0, 0, 1, 0, 0],\n",
        "                  [0, 0, 0, 0, 0, 0, 0, 0, 1, 60],\n",
        "                  [0, 0, 0, 0, 0, 0, 0, 0, 0, 1]])\n",
        "\n",
        "    # set up H\n",
        "    H = np.array([[1, 0], [1, 0], [0, 1], [0, 1]])\n",
        "    H_20x10 = np.zeros((20, 10))\n",
        "\n",
        "    for i in range(0, 20, 4):\n",
        "        H_20x10[i:i+4, i//2:i//2+2] = H\n",
        "\n",
        "    B = np.array([[0,0], [0,0], [1,0], [0,0], [0,0], [0,1]]) # control is already 0\n",
        "\n",
        "    # defined Q from above\n",
        "    Q_20x20 = np.zeros((20, 20))\n",
        "\n",
        "    # Fill the 10x10 matrix with the given 2x2 matrix on the diagonals\n",
        "    for i in range(0, 20, 2):\n",
        "        Q_20x20[i:i+2, i:i+2] = Q\n",
        "\n",
        "    # defined R from above\n",
        "    R_20x20 = np.zeros((20, 20))\n",
        "\n",
        "    # Fill the 10x10 matrix with the given 4x4 matrix on the diagonals\n",
        "    for i in range(0, 20, 4):\n",
        "        R_20x20[i:i+4, i:i+4] = R\n",
        "\n",
        "    #True Initial\n",
        "    x0 = np.zeros((10, 1))\n",
        "\n",
        "    #First Estimate\n",
        "    x = np.array([[0,0,1,-20,0,0]]).T\n",
        "\n",
        "    kf = KalmanFilter(A = A, B = B, H = H, Q = Q, R = R, x0 = x)\n",
        "\n",
        "    measure_var = 0.4\n",
        "\n",
        "    #For the sake of example the diagram below is with zero process variance\n",
        "    #Based on the Covariance matrix the intended variance is 0.05\n",
        "    procc_var = 0\n",
        "\n",
        "    z = (H @ x0) + np.random.normal([[0], [0]], measure_var)\n",
        "\n",
        "    truth = [A@x0+np.random.normal(np.array([[0,0,0,0,0,0,0,0,0,0]]).T, procc_var)]\n",
        "    predictions = []\n",
        "    measurements = [z]\n",
        "    errors = []\n",
        "    for i in range(30):\n",
        "        #These are control inputs for a \"right\" turn at t = 15 and a \"left\" turn at t=20\n",
        "        if i == 15:\n",
        "            u = np.array([[1],[-1]])\n",
        "        elif i == 20:\n",
        "            u = np.array([[-2],[2]])\n",
        "        else:\n",
        "            u = np.array([[0],[0]])\n",
        "\n",
        "        x = np.dot(H,  kf.predict(u))\n",
        "        predictions.append(x)\n",
        "        z = np.dot(H,truth[-1])+np.random.normal([[0],[0]],measure_var)\n",
        "        truth.append(A@truth[-1]+B@u+np.random.normal(np.array([[0,0,0,0,0,0]]).T,procc_var))\n",
        "        measurements.append(z)\n",
        "        errors.append(np.linalg.norm(x-z))\n",
        "        K = kf.update(z)\n",
        "\n",
        "    fig,axs = plt.subplots(1,2, figsize=(14, 7))\n",
        "    axs[0].scatter([x[0][0] for x in measurements],[x[1][0] for x in measurements], label = 'Measurements')\n",
        "    axs[0].scatter([x[0][0] for x in predictions],[x[1][0] for x in predictions], label = 'Kalman Filter Prediction')\n",
        "    axs[0].scatter([(H@x)[0][0] for x in truth],[(H@x)[1][0] for x in truth], label = 'True Values')\n",
        "    axs[0].set_xlabel(\"x-position of object\")\n",
        "    axs[0].set_ylabel(\"y-position of object\")\n",
        "    axs[0].legend()\n",
        "    axs[1].plot([i for i in range(len(errors))],errors, label = 'Prediction vs Truth Error')\n",
        "    axs[1].legend()\n",
        "    axs[1].set_xlabel(\"Iteration\")\n",
        "    axs[1].set_ylabel(\"Estimate vs True Value Error\")\n",
        "    plt.show()\n",
        "\n",
        "if __name__ == '__main__':\n",
        "    example()"
      ],
      "metadata": {
        "id": "oGy822Tp_0PW"
      },
      "execution_count": null,
      "outputs": []
    }
  ],
  "metadata": {
    "kernelspec": {
      "display_name": "Python 3",
      "language": "python",
      "name": "python3"
    },
    "language_info": {
      "codemirror_mode": {
        "name": "ipython",
        "version": 3
      },
      "file_extension": ".py",
      "mimetype": "text/x-python",
      "name": "python",
      "nbconvert_exporter": "python",
      "pygments_lexer": "ipython3",
      "version": "3.10.11"
    },
    "colab": {
      "provenance": []
    }
  },
  "nbformat": 4,
  "nbformat_minor": 0
}